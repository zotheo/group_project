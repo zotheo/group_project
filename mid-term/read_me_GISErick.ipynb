{
 "cells": [
  {
   "cell_type": "markdown",
   "id": "ccf62967-1eb3-480c-901f-8d16d4f8ccd1",
   "metadata": {},
   "source": [
    "# Citations in Public Space\n",
    "- Group Name: GIS (gals in stem) + Erick \n",
    "- Group members: Iris Craige, Greer Cowan, Erick Gasca, Zoe Frumin\n",
    "\n",
    "Research Question: Is there a relationship between enforcement of unsanctioned uses in public space and gentrification? If so, what is it? (Unsanctioned uses include things like illegal vending, drinking in public, and loud gatherings.)\n",
    "\n",
    "Roles:\n",
    "- Zoe looked at: Rent burden, charted it\n",
    "- Iris looked at: Evictions 2010-2019, mapped it\n",
    "- Greer looked at: arrests from 2010-2019, charted and mapped it\n",
    "- Erick looked at : income in our target neighborhoods, charted and mapped it\n",
    "\n",
    "Data sources: \n",
    "- ACS \n",
    "- LAPD \n",
    "- Eviction Lab\n",
    "\n",
    "\n"
   ]
  }
 ],
 "metadata": {
  "kernelspec": {
   "display_name": "Python 3 (ipykernel)",
   "language": "python",
   "name": "python3"
  },
  "language_info": {
   "codemirror_mode": {
    "name": "ipython",
    "version": 3
   },
   "file_extension": ".py",
   "mimetype": "text/x-python",
   "name": "python",
   "nbconvert_exporter": "python",
   "pygments_lexer": "ipython3",
   "version": "3.10.8"
  }
 },
 "nbformat": 4,
 "nbformat_minor": 5
}
